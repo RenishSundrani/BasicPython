{
 "cells": [
  {
   "cell_type": "markdown",
   "metadata": {},
   "source": [
    "# Dictionaries (Hash Table)\n",
    "\n",
    "\n",
    "#Dictionary is an unordered set of key and value pair.\n",
    "#It is an container that contains data, enclosed within curly braces.\n",
    "#The pair i.e., key and value is known as item.\n",
    "#The key passed in the item must be unique.\n",
    "#The key and the value is separated by a colon(:). This pair is known as item. Items are separated from each other by a comma(,). Different items are enclosed within a curly brace and this forms Dictionary.\n",
    "#Dictionary is mutable\n",
    "#Key must be unique and immutable. Value is accessed by key. Value can be updated while key cannot be changed.\n",
    "\n"
   ]
  },
  {
   "cell_type": "code",
   "execution_count": 1,
   "metadata": {},
   "outputs": [
    {
     "name": "stdout",
     "output_type": "stream",
     "text": [
      "<class 'dict'>\n"
     ]
    }
   ],
   "source": [
    "empty_dictionary = {}\n",
    "print(type(empty_dictionary))\n"
   ]
  },
  {
   "cell_type": "code",
   "execution_count": 8,
   "metadata": {},
   "outputs": [
    {
     "data": {
      "text/plain": [
       "{}"
      ]
     },
     "execution_count": 8,
     "metadata": {},
     "output_type": "execute_result"
    }
   ],
   "source": [
    "dict()"
   ]
  },
  {
   "cell_type": "code",
   "execution_count": 1,
   "metadata": {},
   "outputs": [
    {
     "data": {
      "text/plain": [
       "{'A': 1, 'B': 2}"
      ]
     },
     "execution_count": 1,
     "metadata": {},
     "output_type": "execute_result"
    }
   ],
   "source": [
    "dict(A=1,B=2)"
   ]
  },
  {
   "cell_type": "code",
   "execution_count": 3,
   "metadata": {},
   "outputs": [
    {
     "data": {
      "text/plain": [
       "{'A': 1, 'B': 2}"
      ]
     },
     "execution_count": 3,
     "metadata": {},
     "output_type": "execute_result"
    }
   ],
   "source": [
    "{'A':1,'B':2}"
   ]
  },
  {
   "cell_type": "code",
   "execution_count": 4,
   "metadata": {},
   "outputs": [
    {
     "data": {
      "text/plain": [
       "{'A': 1, 'B': 2}"
      ]
     },
     "execution_count": 4,
     "metadata": {},
     "output_type": "execute_result"
    }
   ],
   "source": [
    "#zip named after the real-life zip, which glues together two things taking one element from each at a time\n",
    "dict(zip(['A', 'B'], [1, 2]))"
   ]
  },
  {
   "cell_type": "code",
   "execution_count": 5,
   "metadata": {},
   "outputs": [
    {
     "data": {
      "text/plain": [
       "{'A': 1, 'B': 2}"
      ]
     },
     "execution_count": 5,
     "metadata": {},
     "output_type": "execute_result"
    }
   ],
   "source": [
    "dict([('A', 1), ('B', 2)])"
   ]
  },
  {
   "cell_type": "code",
   "execution_count": 2,
   "metadata": {},
   "outputs": [
    {
     "name": "stdout",
     "output_type": "stream",
     "text": [
      "{'Name': 'Bob', 'Age': 30, 'Height': '5.6 ft', 'Hobby': 'Music'}\n"
     ]
    }
   ],
   "source": [
    "#Dictionaries (Hash Table)\n",
    "#dictionary have no concept of order among elements\n",
    "\n",
    "bio_data = {'Name': 'Bob', 'Age': 30, \n",
    "            'Height': '5.6 ft', \n",
    "            'Hobby': 'Music'}\n",
    "print(bio_data)"
   ]
  },
  {
   "cell_type": "markdown",
   "metadata": {},
   "source": [
    "# Accessing Values\n",
    "\n",
    "Since Index is not defined, a Dictionaries value can be accessed by their keys.\n",
    "#Syntax: [key]"
   ]
  },
  {
   "cell_type": "code",
   "execution_count": 4,
   "metadata": {},
   "outputs": [
    {
     "name": "stdout",
     "output_type": "stream",
     "text": [
      "ID of the first employee : 1\n",
      "ID of the second employee : 2\n",
      "Name of the first employee : ABC\n",
      "Name of the second employee : XYZ\n"
     ]
    }
   ],
   "source": [
    "Employee1 = {'Employee_ID':1,'Emp_Name':\"ABC\",\n",
    "             'Profession':\"Developer\"}\n",
    "Employee2 = {'Employee_ID':2,'Emp_Name':\"XYZ\"\n",
    "             ,'Profession':\"Tester\"}\n",
    "\n",
    "print(\"ID of the first employee :\",\n",
    "      Employee1['Employee_ID'])\n",
    "print(\"ID of the second employee :\",\n",
    "      Employee2['Employee_ID'])\n",
    "\n",
    "print(\"Name of the first employee :\",\n",
    "      Employee1['Emp_Name'])\n",
    "print(\"Name of the second employee :\",\n",
    "      Employee2['Emp_Name'])\n"
   ]
  },
  {
   "cell_type": "code",
   "execution_count": 1,
   "metadata": {},
   "outputs": [
    {
     "data": {
      "text/plain": [
       "{'Employee_ID': [1, 2],\n",
       " 'Emp_Name': ['ABC', 'XYZ'],\n",
       " 'Profession': ['Developer', 'Tester']}"
      ]
     },
     "execution_count": 1,
     "metadata": {},
     "output_type": "execute_result"
    }
   ],
   "source": [
    "Employee1 = {'Employee_ID':[1,2],'Emp_Name':[\"ABC\",\"XYZ\"],\n",
    "             'Profession':[\"Developer\",\"Tester\"]}\n",
    "Employee1 "
   ]
  },
  {
   "cell_type": "code",
   "execution_count": 2,
   "metadata": {},
   "outputs": [
    {
     "name": "stdout",
     "output_type": "stream",
     "text": [
      "['ABC', 'XYZ']\n",
      "ABC\n",
      "1\n",
      "Developer\n"
     ]
    }
   ],
   "source": [
    "Employee1 = {'Employee_ID':[1,2],'Emp_Name':[\"ABC\",\"XYZ\"],\n",
    "             'Profession':[\"Developer\",\"Tester\"]}\n",
    "\n",
    "print(Employee1[\"Emp_Name\"])\n",
    "print(Employee1[\"Emp_Name\"][0])\n",
    "print(Employee1[\"Employee_ID\"][0])\n",
    "print(Employee1[\"Profession\"][0])"
   ]
  },
  {
   "cell_type": "code",
   "execution_count": 3,
   "metadata": {},
   "outputs": [
    {
     "name": "stdout",
     "output_type": "stream",
     "text": [
      "['ABC', 'XYZ']\n",
      "['ABC', 'XYZ']\n",
      "{'Employee_ID': [1, 2], 'Emp_Name': ['ABC', 'XYZ'], 'Profession': ['Developer', 'Tester']}\n",
      "['ABC', 'XYZ']\n",
      "{'Employee_ID': [1, 2], 'Profession': ['Developer', 'Tester']}\n"
     ]
    }
   ],
   "source": [
    "print(Employee1['Emp_Name'])\n",
    "print(Employee1.get('Emp_Name'))\n",
    "print(Employee1)\n",
    "#The difference between get and pop is that pop also \n",
    "#removes the corresponding item from the dictionary:\n",
    "\n",
    "print(Employee1.pop('Emp_Name'))\n",
    "print(Employee1)"
   ]
  },
  {
   "cell_type": "code",
   "execution_count": 13,
   "metadata": {},
   "outputs": [
    {
     "name": "stdout",
     "output_type": "stream",
     "text": [
      "{'A': 1, 'B': 2, 'C': 3, 'D': 4}\n",
      "[1, 2, 3, 4]\n",
      "[2, 3]\n"
     ]
    },
    {
     "ename": "TypeError",
     "evalue": "unhashable type: 'slice'",
     "output_type": "error",
     "traceback": [
      "\u001b[1;31m---------------------------------------------------------------------------\u001b[0m",
      "\u001b[1;31mTypeError\u001b[0m                                 Traceback (most recent call last)",
      "\u001b[1;32m<ipython-input-13-96a25c886947>\u001b[0m in \u001b[0;36m<module>\u001b[1;34m\u001b[0m\n\u001b[0;32m      4\u001b[0m \u001b[0mprint\u001b[0m\u001b[1;33m(\u001b[0m\u001b[0my\u001b[0m\u001b[1;33m)\u001b[0m\u001b[1;33m\u001b[0m\u001b[1;33m\u001b[0m\u001b[0m\n\u001b[0;32m      5\u001b[0m \u001b[0mprint\u001b[0m\u001b[1;33m(\u001b[0m\u001b[0my\u001b[0m\u001b[1;33m[\u001b[0m\u001b[1;36m1\u001b[0m\u001b[1;33m:\u001b[0m\u001b[1;36m3\u001b[0m\u001b[1;33m]\u001b[0m\u001b[1;33m)\u001b[0m\u001b[1;33m\u001b[0m\u001b[1;33m\u001b[0m\u001b[0m\n\u001b[1;32m----> 6\u001b[1;33m \u001b[0mx\u001b[0m\u001b[1;33m[\u001b[0m\u001b[1;34m'A'\u001b[0m\u001b[1;33m:\u001b[0m\u001b[1;34m'C'\u001b[0m\u001b[1;33m]\u001b[0m\u001b[1;33m\u001b[0m\u001b[1;33m\u001b[0m\u001b[0m\n\u001b[0m",
      "\u001b[1;31mTypeError\u001b[0m: unhashable type: 'slice'"
     ]
    }
   ],
   "source": [
    "x = {'A':1,'B':2,'C':3,'D':4}\n",
    "print(x)\n",
    "y = [1,2,3,4]\n",
    "print(y)\n",
    "print(y[1:3])\n",
    "x['A':'C']"
   ]
  },
  {
   "cell_type": "markdown",
   "metadata": {},
   "source": [
    "# Updation\n",
    "\n",
    "The item i.e., key-value pair can be updated. Updating means new item can be added. The values can be modified."
   ]
  },
  {
   "cell_type": "code",
   "execution_count": 4,
   "metadata": {},
   "outputs": [
    {
     "name": "stdout",
     "output_type": "stream",
     "text": [
      "{'Employee_ID': [1, 2], 'Profession': ['Developer', 'Tester'], 'Emp_Name': ['Sam', 'Bob']}\n"
     ]
    }
   ],
   "source": [
    "#Employee1['Emp_Name'][0] = \"Sam\"\n",
    "#Employee2['Emp_Name'][1] = \"Bob\"\n",
    "Employee1[\"Emp_Name\"] = [\"Sam\",\"Bob\"]\n",
    "\n",
    "print(Employee1)\n",
    "#print(Employee2)"
   ]
  },
  {
   "cell_type": "markdown",
   "metadata": {},
   "source": [
    "# Adding new item in dictionary\n",
    "\n",
    "We can add new item in the existing dictionary"
   ]
  },
  {
   "cell_type": "code",
   "execution_count": 17,
   "metadata": {},
   "outputs": [
    {
     "name": "stdout",
     "output_type": "stream",
     "text": [
      "{'Employee_ID': 1, 'Emp_Name': 'ABC', 'Profession': 'Developer', 'Location': 'Delhi'}\n",
      "{'Employee_ID': 2, 'Emp_Name': 'XYZ', 'Profession': 'Tester', 'Location': 'Mumbai'}\n"
     ]
    }
   ],
   "source": [
    "Employee1['Location'] = \"Delhi\"\n",
    "Employee2['Location'] = \"Mumbai\"\n",
    "\n",
    "print(Employee1)\n",
    "print(Employee2)"
   ]
  },
  {
   "cell_type": "markdown",
   "metadata": {},
   "source": [
    "# Deletion\n",
    "\n",
    "#del statement is used for performing deletion operation.\n",
    "\n",
    "#An item can be deleted from a dictionary using the key."
   ]
  },
  {
   "cell_type": "code",
   "execution_count": 18,
   "metadata": {},
   "outputs": [
    {
     "name": "stdout",
     "output_type": "stream",
     "text": [
      "{'Employee_ID': 1, 'Emp_Name': 'ABC', 'Profession': 'Developer'}\n",
      "{'Employee_ID': 2, 'Emp_Name': 'XYZ', 'Profession': 'Tester'}\n"
     ]
    }
   ],
   "source": [
    "del Employee1['Location']\n",
    "del Employee2['Location']\n",
    "\n",
    "print(Employee1)\n",
    "print(Employee2)"
   ]
  },
  {
   "cell_type": "code",
   "execution_count": 35,
   "metadata": {},
   "outputs": [
    {
     "name": "stdout",
     "output_type": "stream",
     "text": [
      "Temporary dictionary is : {'Employee_ID': 1, 'Emp_Name': 'ABC', 'Profession': 'Developer'}\n"
     ]
    },
    {
     "ename": "NameError",
     "evalue": "name 'temp' is not defined",
     "output_type": "error",
     "traceback": [
      "\u001b[1;31m---------------------------------------------------------------------------\u001b[0m",
      "\u001b[1;31mNameError\u001b[0m                                 Traceback (most recent call last)",
      "\u001b[1;32m<ipython-input-35-87f0a0745fc9>\u001b[0m in \u001b[0;36m<module>\u001b[1;34m()\u001b[0m\n\u001b[0;32m      5\u001b[0m \u001b[1;33m\u001b[0m\u001b[0m\n\u001b[0;32m      6\u001b[0m \u001b[1;32mdel\u001b[0m \u001b[0mtemp\u001b[0m\u001b[1;33m\u001b[0m\u001b[0m\n\u001b[1;32m----> 7\u001b[1;33m \u001b[0mprint\u001b[0m\u001b[1;33m(\u001b[0m\u001b[1;34m\"Temporary dictionary is :\"\u001b[0m\u001b[1;33m,\u001b[0m\u001b[0mtemp\u001b[0m\u001b[1;33m)\u001b[0m\u001b[1;33m\u001b[0m\u001b[0m\n\u001b[0m",
      "\u001b[1;31mNameError\u001b[0m: name 'temp' is not defined"
     ]
    }
   ],
   "source": [
    "#The whole dictionary can also be deleted\n",
    "\n",
    "temp = {'Employee_ID':1,'Emp_Name':\"ABC\",'Profession':\"Developer\"}\n",
    "print(\"Temporary dictionary is :\",temp)\n",
    "\n",
    "del temp\n",
    "print(\"Temporary dictionary is :\",temp)\n"
   ]
  },
  {
   "cell_type": "markdown",
   "metadata": {},
   "source": [
    "# Functions and Methods\n",
    "\n",
    "#1) len() : Gives number of items in a dictionary.\n",
    "#2) str() : Gives the string representation of a string\n",
    "#3) keys() : Return all the keys element of a dictionary.\n",
    "#4) values() : Return all the values element of a dictionary.\n",
    "#5) items() : \tReturn all the items(key-value pair) of a dictionary.\n",
    "#6) update(dictionary2)) : It is used to add items of dictionary2 to first dictionary.\n",
    "#7) clear() : It is used to remove all items of a dictionary. It returns an empty dictionary.\n",
    "#8) copy(): It returns an ordered copy of the data.\n"
   ]
  },
  {
   "cell_type": "code",
   "execution_count": 12,
   "metadata": {},
   "outputs": [
    {
     "data": {
      "text/plain": [
       "3"
      ]
     },
     "execution_count": 12,
     "metadata": {},
     "output_type": "execute_result"
    }
   ],
   "source": [
    "#len(dictionary)\n",
    "\n",
    "len(Employee1)"
   ]
  },
  {
   "cell_type": "code",
   "execution_count": 3,
   "metadata": {},
   "outputs": [
    {
     "name": "stdout",
     "output_type": "stream",
     "text": [
      "{'Employee_ID': [1, 2], 'Emp_Name': ['ABC', 'XYZ'], 'Profession': ['Developer', 'Tester']}\n",
      "<class 'str'>\n",
      "ID\n",
      "{\n"
     ]
    }
   ],
   "source": [
    "#str(dictionary)\n",
    "Employee1\n",
    "\n",
    "a = str(Employee1)\n",
    "print(a)\n",
    "print(type(a))\n",
    "print(a[11:13])\n",
    "print(a[0])"
   ]
  },
  {
   "cell_type": "code",
   "execution_count": 3,
   "metadata": {},
   "outputs": [
    {
     "data": {
      "text/plain": [
       "dict_keys(['Employee_ID', 'Emp_Name', 'Profession'])"
      ]
     },
     "execution_count": 3,
     "metadata": {},
     "output_type": "execute_result"
    }
   ],
   "source": [
    "#keys()\n",
    "\n",
    "Employee1.keys()"
   ]
  },
  {
   "cell_type": "code",
   "execution_count": null,
   "metadata": {},
   "outputs": [],
   "source": [
    "Employee1.values()"
   ]
  },
  {
   "cell_type": "code",
   "execution_count": 20,
   "metadata": {},
   "outputs": [
    {
     "name": "stdout",
     "output_type": "stream",
     "text": [
      "{'Employee_ID': 1, 'Emp_Name': 'ABC', 'Profession': 'Developer'}\n",
      "dict_items([('Employee_ID', 1), ('Emp_Name', 'ABC'), ('Profession', 'Developer')])\n"
     ]
    }
   ],
   "source": [
    "print(Employee1)\n",
    "print(Employee1.items())"
   ]
  },
  {
   "cell_type": "code",
   "execution_count": 1,
   "metadata": {},
   "outputs": [
    {
     "ename": "TypeError",
     "evalue": "unsupported operand type(s) for +: 'dict' and 'dict'",
     "output_type": "error",
     "traceback": [
      "\u001b[1;31m---------------------------------------------------------------------------\u001b[0m",
      "\u001b[1;31mTypeError\u001b[0m                                 Traceback (most recent call last)",
      "\u001b[1;32m<ipython-input-1-4c9da57f56d9>\u001b[0m in \u001b[0;36m<module>\u001b[1;34m\u001b[0m\n\u001b[0;32m      1\u001b[0m \u001b[0mx\u001b[0m \u001b[1;33m=\u001b[0m \u001b[1;33m{\u001b[0m\u001b[1;34m'A'\u001b[0m\u001b[1;33m:\u001b[0m\u001b[1;36m1\u001b[0m\u001b[1;33m,\u001b[0m\u001b[1;34m'B'\u001b[0m\u001b[1;33m:\u001b[0m\u001b[1;36m2\u001b[0m\u001b[1;33m}\u001b[0m\u001b[1;33m\u001b[0m\u001b[1;33m\u001b[0m\u001b[0m\n\u001b[0;32m      2\u001b[0m \u001b[0my\u001b[0m \u001b[1;33m=\u001b[0m \u001b[1;33m{\u001b[0m\u001b[1;34m'C'\u001b[0m\u001b[1;33m:\u001b[0m\u001b[1;36m3\u001b[0m\u001b[1;33m,\u001b[0m\u001b[1;34m'D'\u001b[0m\u001b[1;33m:\u001b[0m\u001b[1;36m4\u001b[0m\u001b[1;33m}\u001b[0m\u001b[1;33m\u001b[0m\u001b[1;33m\u001b[0m\u001b[0m\n\u001b[1;32m----> 3\u001b[1;33m \u001b[0mx\u001b[0m\u001b[1;33m+\u001b[0m\u001b[0my\u001b[0m\u001b[1;33m\u001b[0m\u001b[1;33m\u001b[0m\u001b[0m\n\u001b[0m",
      "\u001b[1;31mTypeError\u001b[0m: unsupported operand type(s) for +: 'dict' and 'dict'"
     ]
    }
   ],
   "source": [
    "x = {'A':1,'B':2}\n",
    "y = {'C':3,'D':4}\n",
    "x+y"
   ]
  },
  {
   "cell_type": "code",
   "execution_count": 2,
   "metadata": {},
   "outputs": [
    {
     "data": {
      "text/plain": [
       "{'A': 1, 'B': 2, 'C': 3, 'D': 4}"
      ]
     },
     "execution_count": 2,
     "metadata": {},
     "output_type": "execute_result"
    }
   ],
   "source": [
    "\n",
    "x.update(y)\n",
    "x"
   ]
  },
  {
   "cell_type": "code",
   "execution_count": 3,
   "metadata": {},
   "outputs": [
    {
     "data": {
      "text/plain": [
       "{'A': 1, 'B': 4, 'C': 3}"
      ]
     },
     "execution_count": 3,
     "metadata": {},
     "output_type": "execute_result"
    }
   ],
   "source": [
    "x = {'A':1,'B':2}\n",
    "y = {'C':3,'B':4}\n",
    "x.update(y)\n",
    "x"
   ]
  },
  {
   "cell_type": "code",
   "execution_count": 4,
   "metadata": {},
   "outputs": [
    {
     "data": {
      "text/plain": [
       "{'A': 3, 'B': 2}"
      ]
     },
     "execution_count": 4,
     "metadata": {},
     "output_type": "execute_result"
    }
   ],
   "source": [
    "{'A':1,'B':2,'A':3}"
   ]
  },
  {
   "cell_type": "code",
   "execution_count": 6,
   "metadata": {},
   "outputs": [
    {
     "name": "stdout",
     "output_type": "stream",
     "text": [
      "{'Employee_ID': [1, 2], 'Profession': ['Developer', 'Tester'], 'Emp_Name': ['Sam', 'Bob']}\n",
      "{'Employee_ID': [3, 4], 'Profession': ['Developer', 'Tester'], 'Emp_Name': ['Sam', 'Bob'], 'location': 'Mumbai'}\n"
     ]
    }
   ],
   "source": [
    "#update(dictionary)\n",
    "\n",
    "location1 = {'Employee_ID': [3, 4], 'location': 'Mumbai'}\n",
    "\n",
    "print(Employee1)\n",
    "\n",
    "#print(Employee1 + location1)\n",
    "\n",
    "Employee1.update(location1)\n",
    "\n",
    "print(Employee1)"
   ]
  },
  {
   "cell_type": "code",
   "execution_count": 25,
   "metadata": {},
   "outputs": [
    {
     "name": "stdout",
     "output_type": "stream",
     "text": [
      "Dictionary : {'ID': 1, 'Name': 'ABC', 'Dept': 'IT'}\n",
      "Dictionary : {}\n"
     ]
    }
   ],
   "source": [
    "#Clear()\n",
    "\n",
    "temp = {'ID':1,'Name':\"ABC\",'Dept':'IT'}\n",
    "\n",
    "print(\"Dictionary :\", temp)\n",
    "\n",
    "temp.clear()\n",
    "\n",
    "print(\"Dictionary :\", temp)\n",
    "\n"
   ]
  },
  {
   "cell_type": "code",
   "execution_count": 4,
   "metadata": {},
   "outputs": [
    {
     "name": "stdout",
     "output_type": "stream",
     "text": [
      "{'ID': 1, 'Name': 'ABC', 'Dept': 'IT'}\n",
      "{}\n",
      "{}\n"
     ]
    }
   ],
   "source": [
    "#copy\n",
    "Employee1 = {'ID':1,'Name':\"ABC\",'Dept':'IT'}\n",
    "Employee2 = Employee1\n",
    "Emp = Employee1.copy()\n",
    "\n",
    "Employee1.clear()\n",
    "#Employee2.clear()\n",
    "print(Emp)\n",
    "print(Employee1)\n",
    "print(Employee2)"
   ]
  },
  {
   "cell_type": "markdown",
   "metadata": {
    "collapsed": true
   },
   "source": [
    "# setdefault\n",
    "\n",
    "setdefault behaves like get, but also sets the key with the given value if it is not there"
   ]
  },
  {
   "cell_type": "code",
   "execution_count": 5,
   "metadata": {},
   "outputs": [
    {
     "data": {
      "text/plain": [
       "1"
      ]
     },
     "execution_count": 5,
     "metadata": {},
     "output_type": "execute_result"
    }
   ],
   "source": [
    "d = {}\n",
    "d.setdefault('a', 1)  # 'a' is missing, we get default value"
   ]
  },
  {
   "cell_type": "code",
   "execution_count": 6,
   "metadata": {},
   "outputs": [
    {
     "data": {
      "text/plain": [
       "{'a': 1}"
      ]
     },
     "execution_count": 6,
     "metadata": {},
     "output_type": "execute_result"
    }
   ],
   "source": [
    "d # also, the key/value pair ('a', 1) has now been added"
   ]
  },
  {
   "cell_type": "code",
   "execution_count": 8,
   "metadata": {},
   "outputs": [
    {
     "name": "stdout",
     "output_type": "stream",
     "text": [
      "{'a': 1, 'b': 3}\n"
     ]
    }
   ],
   "source": [
    "d.update({'b':3})\n",
    "print(d)"
   ]
  },
  {
   "cell_type": "code",
   "execution_count": 4,
   "metadata": {},
   "outputs": [
    {
     "data": {
      "text/plain": [
       "1"
      ]
     },
     "execution_count": 4,
     "metadata": {},
     "output_type": "execute_result"
    }
   ],
   "source": [
    "d.setdefault('a', 5)  # let's try to override the value"
   ]
  },
  {
   "cell_type": "code",
   "execution_count": 10,
   "metadata": {},
   "outputs": [
    {
     "data": {
      "text/plain": [
       "{'a': 1}"
      ]
     },
     "execution_count": 10,
     "metadata": {},
     "output_type": "execute_result"
    }
   ],
   "source": [
    "d # no override, as expected"
   ]
  },
  {
   "cell_type": "code",
   "execution_count": 7,
   "metadata": {},
   "outputs": [
    {
     "data": {
      "text/plain": [
       "{'b': 2, 'a': 5}"
      ]
     },
     "execution_count": 7,
     "metadata": {},
     "output_type": "execute_result"
    }
   ],
   "source": [
    "d['a'] = 5\n",
    "d"
   ]
  },
  {
   "cell_type": "code",
   "execution_count": 12,
   "metadata": {},
   "outputs": [],
   "source": [
    "d = {}\n",
    "d.setdefault('a', {}).setdefault('b', []).append(1)"
   ]
  },
  {
   "cell_type": "code",
   "execution_count": 13,
   "metadata": {},
   "outputs": [
    {
     "data": {
      "text/plain": [
       "{'a': {'b': [1]}}"
      ]
     },
     "execution_count": 13,
     "metadata": {},
     "output_type": "execute_result"
    }
   ],
   "source": [
    "d"
   ]
  },
  {
   "cell_type": "markdown",
   "metadata": {},
   "source": [
    "# Small Value Cache"
   ]
  },
  {
   "cell_type": "code",
   "execution_count": 4,
   "metadata": {},
   "outputs": [
    {
     "name": "stdout",
     "output_type": "stream",
     "text": [
      "2749535536016\n",
      "2749535536144\n"
     ]
    }
   ],
   "source": [
    "a = 1000\n",
    "b = 1000\n",
    "\n",
    "id(a) == id(b)\n",
    "print(id(a))\n",
    "print(id(b))"
   ]
  },
  {
   "cell_type": "code",
   "execution_count": 5,
   "metadata": {},
   "outputs": [
    {
     "name": "stdout",
     "output_type": "stream",
     "text": [
      "1543278016\n"
     ]
    }
   ],
   "source": [
    "a = 256\n",
    "b = 256\n",
    "\n",
    "id(a) == id(b)\n",
    "print(id(a))"
   ]
  },
  {
   "cell_type": "code",
   "execution_count": null,
   "metadata": {},
   "outputs": [],
   "source": []
  }
 ],
 "metadata": {
  "kernelspec": {
   "display_name": "Python 3",
   "language": "python",
   "name": "python3"
  },
  "language_info": {
   "codemirror_mode": {
    "name": "ipython",
    "version": 3
   },
   "file_extension": ".py",
   "mimetype": "text/x-python",
   "name": "python",
   "nbconvert_exporter": "python",
   "pygments_lexer": "ipython3",
   "version": "3.6.4"
  }
 },
 "nbformat": 4,
 "nbformat_minor": 2
}
