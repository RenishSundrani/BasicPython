{
 "cells": [
  {
   "cell_type": "markdown",
   "metadata": {},
   "source": [
    "#### Python Session                       \n",
    "#### Date:  1/29/2018\n",
    "#### Author: Manish\n",
    "\n",
    "##### Description: This session will cover:\n",
    "                     Working with Control Statemets\n",
    "                     \n",
    "##############################################################################"
   ]
  },
  {
   "cell_type": "markdown",
   "metadata": {},
   "source": [
    "# Arithmetic Operators:\n",
    "\n",
    "Like any ohter language, the  addition, subtraction, multiplication and division operator can be used with numbers "
   ]
  },
  {
   "cell_type": "code",
   "execution_count": 3,
   "metadata": {},
   "outputs": [
    {
     "name": "stdout",
     "output_type": "stream",
     "text": [
      "3\n",
      "ab\n"
     ]
    }
   ],
   "source": [
    "x = 1\n",
    "y = 2\n",
    "a = 'a'\n",
    "b = 'b'\n",
    "z = x+ y\n",
    "z1 = a + b\n",
    "print(z)\n",
    "print(z1)"
   ]
  },
  {
   "cell_type": "code",
   "execution_count": 2,
   "metadata": {},
   "outputs": [
    {
     "name": "stdout",
     "output_type": "stream",
     "text": [
      "5\n"
     ]
    }
   ],
   "source": [
    "x = 10\n",
    "y = 5\n",
    "\n",
    "z = x - y\n",
    "print(z)"
   ]
  },
  {
   "cell_type": "code",
   "execution_count": 3,
   "metadata": {},
   "outputs": [
    {
     "name": "stdout",
     "output_type": "stream",
     "text": [
      "2.0\n"
     ]
    }
   ],
   "source": [
    "z = x/y\n",
    "print(z)"
   ]
  },
  {
   "cell_type": "code",
   "execution_count": 6,
   "metadata": {},
   "outputs": [
    {
     "name": "stdout",
     "output_type": "stream",
     "text": [
      "2\n"
     ]
    }
   ],
   "source": [
    "x = 17\n",
    "y = 5\n",
    "remainder = x % y\n",
    "print(remainder)"
   ]
  },
  {
   "cell_type": "code",
   "execution_count": 8,
   "metadata": {},
   "outputs": [
    {
     "name": "stdout",
     "output_type": "stream",
     "text": [
      "3\n"
     ]
    }
   ],
   "source": [
    "x = 17\n",
    "y = 5\n",
    "\n",
    "quotient = x//y\n",
    "print(quotient)"
   ]
  },
  {
   "cell_type": "code",
   "execution_count": 12,
   "metadata": {},
   "outputs": [
    {
     "name": "stdout",
     "output_type": "stream",
     "text": [
      "5.0\n",
      "4\n"
     ]
    }
   ],
   "source": [
    "print(x/y)"
   ]
  },
  {
   "cell_type": "code",
   "execution_count": 2,
   "metadata": {},
   "outputs": [
    {
     "data": {
      "text/plain": [
       "2"
      ]
     },
     "execution_count": 2,
     "metadata": {},
     "output_type": "execute_result"
    }
   ],
   "source": [
    "-10 // 4"
   ]
  },
  {
   "cell_type": "markdown",
   "metadata": {},
   "source": [
    "This is an interesting example. If you were expecting a -1 on the last line, don't feel bad, it's just the way Python works. The result of an integer division in Python is always rounded towards minus infinity. "
   ]
  },
  {
   "cell_type": "markdown",
   "metadata": {},
   "source": [
    "# Control Statements\n",
    "\n",
    "The if statement in python is same as c language which is used test a condition. If condition is true, statement of if block is executed otherwise it is skipped.\n",
    "\n",
    "Syntax: \n",
    "\n",
    "if(condition):  \n",
    "   statements \n",
    "   \n",
    "Python uses boolean variables to evaluate conditions. The boolen values True and False are returned when an expression is evaluated."
   ]
  },
  {
   "cell_type": "code",
   "execution_count": 6,
   "metadata": {},
   "outputs": [
    {
     "name": "stdout",
     "output_type": "stream",
     "text": [
      "inside if statement\n",
      "still inside\n",
      "Outside if statement\n"
     ]
    }
   ],
   "source": [
    "a = 10\n",
    "\n",
    "if a == 10:\n",
    "    print(\"inside if statement\")\n",
    "    print(\"still inside\")\n",
    "print(\"Outside if statement\")"
   ]
  },
  {
   "cell_type": "code",
   "execution_count": 7,
   "metadata": {},
   "outputs": [
    {
     "name": "stdout",
     "output_type": "stream",
     "text": [
      "a is 5\n",
      "Not in if else\n"
     ]
    }
   ],
   "source": [
    "a = 5\n",
    "\n",
    "if a ==5:\n",
    "    print(\"a is 5\")\n",
    "else:\n",
    "    print(\"a is not 5\")\n",
    "print(\"Not in if else\")"
   ]
  },
  {
   "cell_type": "markdown",
   "metadata": {},
   "source": [
    " Nested if else conditions\n",
    " \n",
    "          When we need to check for multiple conditions to be true then we use elif Statement.\n",
    "\n",
    "          This statement is like executing a if statement inside a else statement."
   ]
  },
  {
   "cell_type": "code",
   "execution_count": 13,
   "metadata": {},
   "outputs": [
    {
     "name": "stdout",
     "output_type": "stream",
     "text": [
      "a is b/w 20 and 30\n",
      "outside if else\n"
     ]
    }
   ],
   "source": [
    "a = 25\n",
    "\n",
    "if a <= 20:\n",
    "    print(\"a is not less than 20\")\n",
    "elif a >= 30:\n",
    "    print(\"a is greater than 30\")\n",
    "else:\n",
    "    print(\"a is b/w 20 and 30\")\n",
    "print(\"outside if else\")\n"
   ]
  },
  {
   "cell_type": "markdown",
   "metadata": {},
   "source": [
    "The \"and\" and \"or\" boolean operators allowe building complex boolean expression"
   ]
  },
  {
   "cell_type": "code",
   "execution_count": 8,
   "metadata": {},
   "outputs": [
    {
     "name": "stdout",
     "output_type": "stream",
     "text": [
      "inside the if statement\n"
     ]
    }
   ],
   "source": [
    "name = \"ABC\"\n",
    "age = 23\n",
    "\n",
    "if name == \"ABC\" and age == 23:\n",
    "    print(\"inside the if statement\")"
   ]
  },
  {
   "cell_type": "code",
   "execution_count": 9,
   "metadata": {},
   "outputs": [
    {
     "name": "stdout",
     "output_type": "stream",
     "text": [
      "inside the if statement\n",
      "hi\n"
     ]
    }
   ],
   "source": [
    "name = \"ABC\"\n",
    "age = 24\n",
    "\n",
    "if name == \"ABC\" or age == 23:\n",
    "    print(\"inside the if statement\")\n",
    "print(\"hi\")"
   ]
  },
  {
   "cell_type": "code",
   "execution_count": 25,
   "metadata": {},
   "outputs": [
    {
     "name": "stdout",
     "output_type": "stream",
     "text": [
      "247 25\n",
      "247 25\n"
     ]
    }
   ],
   "source": [
    "#The ternary operator\n",
    "\n",
    "order_total = 247  # GBP \n",
    " \n",
    "# classic if/else form \n",
    "if order_total > 100: \n",
    "    discount = 25  # GBP \n",
    "else: \n",
    "    discount = 0  # GBP \n",
    "print(order_total, discount) \n",
    " \n",
    "# ternary operator \n",
    "discount = 25 if order_total > 100 else 0 \n",
    "print(order_total, discount) "
   ]
  },
  {
   "cell_type": "markdown",
   "metadata": {},
   "source": [
    "# Loops\n",
    "\n",
    "#1 For Loop:\n",
    "#For Loop is used to iterate a variable over a sequence(i.e., list or string) in the order that they appear.\n",
    "\n",
    "\n",
    "Steps:\n",
    " 1. Firstly, the first value will be assigned in the variable.\n",
    " 2. Secondly all the statements in the body of the loop are executed with the same value.\n",
    " 3. Thirdly, once step second is completed then variable is assigned the next value in the sequence and step second is repeated.\n",
    " 4. Finally, it continues till all the values in the sequence are assigned in the variable and processed."
   ]
  },
  {
   "cell_type": "code",
   "execution_count": 30,
   "metadata": {},
   "outputs": [
    {
     "name": "stdout",
     "output_type": "stream",
     "text": [
      "2\n",
      "4\n",
      "6\n",
      "8\n"
     ]
    }
   ],
   "source": [
    "num = 2\n",
    "for a in range(1,5):\n",
    "    print(num*a)"
   ]
  },
  {
   "cell_type": "markdown",
   "metadata": {},
   "source": [
    "# Assignment1\n",
    "\n",
    "Write a program to find the sum of Natural Number from 1 to 10 \n",
    " \n",
    "  \n",
    "   \n",
    "    \n",
    "     \n",
    "      \n",
    "       \n",
    "        \n",
    "        \n",
    "          \n",
    "\n",
    "\n",
    "\n",
    "\n",
    "\n",
    "\n",
    "\n",
    "\n",
    "\n"
   ]
  },
  {
   "cell_type": "code",
   "execution_count": null,
   "metadata": {
    "collapsed": true
   },
   "outputs": [],
   "source": []
  },
  {
   "cell_type": "code",
   "execution_count": 6,
   "metadata": {},
   "outputs": [
    {
     "name": "stdout",
     "output_type": "stream",
     "text": [
      "55\n"
     ]
    }
   ],
   "source": [
    "sum1=0  \n",
    "for n in range(1,11):  \n",
    "    sum1+=n  \n",
    "print(sum1)"
   ]
  },
  {
   "cell_type": "markdown",
   "metadata": {},
   "source": [
    "# Nested Loops\n",
    "\n",
    "Loops defined inside another loop is called Nested Loop\n"
   ]
  },
  {
   "cell_type": "markdown",
   "metadata": {},
   "source": [
    "# Assignment2\n",
    "\n",
    "Write a program to print:\n",
    "\n",
    "#  \n",
    "# #\n",
    "# # #  \n",
    "# # # #  \n",
    "# # # # #\n",
    " "
   ]
  },
  {
   "cell_type": "code",
   "execution_count": 6,
   "metadata": {},
   "outputs": [
    {
     "name": "stdout",
     "output_type": "stream",
     "text": [
      "Hi#Python\n"
     ]
    }
   ],
   "source": [
    "print(\"Hi\", end = \"\")\n",
    "#print(\"Hi\")\n",
    "print(\"Python\")"
   ]
  },
  {
   "cell_type": "code",
   "execution_count": 5,
   "metadata": {},
   "outputs": [
    {
     "name": "stdout",
     "output_type": "stream",
     "text": [
      "hi@hello\n",
      "Hi\n"
     ]
    }
   ],
   "source": [
    "print(\"hi\",end = \"@\")\n",
    "print(\"hello\")\n",
    "print(\"Hi\")"
   ]
  },
  {
   "cell_type": "code",
   "execution_count": 5,
   "metadata": {},
   "outputs": [
    {
     "name": "stdout",
     "output_type": "stream",
     "text": [
      "# \n",
      "# # \n",
      "# # # \n",
      "# # # # \n",
      "# # # # # \n"
     ]
    }
   ],
   "source": [
    "##Solution\n",
    "\n",
    "n = 5\n",
    "for i in range(0, n):\n",
    "        for j in range(0, i+1):\n",
    "##By default, the value of this parameter is ‘\\n’, \n",
    "##i.e. the new line character. \n",
    "##You can end a print statement with any character/string using this parameter.\n",
    "            print(\"# \" ,end=\"\")\n",
    "        print()"
   ]
  },
  {
   "cell_type": "markdown",
   "metadata": {},
   "source": [
    "#Pattern to print\n",
    "\n",
    "\n",
    "*\n",
    "**\n",
    "***\n",
    "****\n",
    "*****\n",
    "******\n",
    "*****\n",
    "****\n",
    "***\n",
    "**\n",
    "*"
   ]
  },
  {
   "cell_type": "code",
   "execution_count": 1,
   "metadata": {},
   "outputs": [
    {
     "name": "stdout",
     "output_type": "stream",
     "text": [
      "hi\n",
      "hello\n"
     ]
    }
   ],
   "source": [
    "print(\"hi\")\n",
    "print(\"hello\")"
   ]
  },
  {
   "cell_type": "code",
   "execution_count": null,
   "metadata": {},
   "outputs": [],
   "source": []
  },
  {
   "cell_type": "code",
   "execution_count": null,
   "metadata": {},
   "outputs": [],
   "source": []
  },
  {
   "cell_type": "code",
   "execution_count": 6,
   "metadata": {},
   "outputs": [
    {
     "name": "stdout",
     "output_type": "stream",
     "text": [
      "hi#hello@abc\n",
      "xyz\n"
     ]
    }
   ],
   "source": [
    "print(\"hi\", end = '#')\n",
    "print(\"hello\",end = '@')\n",
    "print(\"abc\")\n",
    "print(\"xyz\")"
   ]
  },
  {
   "cell_type": "code",
   "execution_count": 3,
   "metadata": {},
   "outputs": [
    {
     "name": "stdout",
     "output_type": "stream",
     "text": [
      "Hi\n",
      "Hello\n"
     ]
    }
   ],
   "source": [
    "print(\"Hi\")\n",
    "print(\"Hello\")"
   ]
  },
  {
   "cell_type": "code",
   "execution_count": 6,
   "metadata": {},
   "outputs": [
    {
     "name": "stdout",
     "output_type": "stream",
     "text": [
      "*\n",
      "**\n",
      "***\n",
      "****\n",
      "*****\n",
      "******\n",
      "*****\n",
      "****\n",
      "***\n",
      "**\n",
      "*\n"
     ]
    }
   ],
   "source": [
    "strl = ''\n",
    "for i in range(0,11):\n",
    "    if i < 6:\n",
    "        strl = strl + '*'\n",
    "        print(strl)\n",
    "    elif i > 5:\n",
    "        strl = strl[:-1]\n",
    "        print(strl)\n"
   ]
  },
  {
   "cell_type": "code",
   "execution_count": null,
   "metadata": {},
   "outputs": [],
   "source": []
  },
  {
   "cell_type": "markdown",
   "metadata": {},
   "source": [
    "# Assignmnet 3:\n",
    "\n",
    "#1) Define a string \"Hello this Is an Example With cased letters\"\n",
    "#2) Write a program to sort alphabetically the words form a string provided by the user"
   ]
  },
  {
   "cell_type": "code",
   "execution_count": 40,
   "metadata": {},
   "outputs": [
    {
     "name": "stdout",
     "output_type": "stream",
     "text": [
      "The sorted words are:\n",
      "Example\n",
      "Hello\n",
      "Is\n",
      "With\n",
      "an\n",
      "cased\n",
      "letters\n",
      "this\n"
     ]
    }
   ],
   "source": [
    "my_str = \"Hello this Is an Example With cased letters\"\n",
    "\n",
    "# breakdown the string into a list of words\n",
    "words = my_str.split()\n",
    "\n",
    "# sort the list\n",
    "words.sort()\n",
    "\n",
    "a = words\n",
    "# display the sorted words\n",
    "\n",
    "print(\"The sorted words are:\")\n",
    "for word in words:\n",
    "   print(word)"
   ]
  },
  {
   "cell_type": "code",
   "execution_count": null,
   "metadata": {
    "collapsed": true
   },
   "outputs": [],
   "source": []
  },
  {
   "cell_type": "markdown",
   "metadata": {},
   "source": [
    "# Assignment 4\n",
    "\n",
    "#1) define a string \"Hello!!!, he said ---and went.\"\n",
    "#2) Remove all punctuation from string\n",
    "#3) output should be \"Hello he said and went\""
   ]
  },
  {
   "cell_type": "code",
   "execution_count": 1,
   "metadata": {},
   "outputs": [
    {
     "name": "stdout",
     "output_type": "stream",
     "text": [
      "Hello he said and went\n"
     ]
    }
   ],
   "source": [
    "# define punctuation\n",
    "punctuations = '''!()-[]{};:'\"\\,<>./?@#$%^&*_~'''\n",
    "\n",
    "my_str = \"Hello!!!, he said ---and went.\"\n",
    "\n",
    "no_punct = \"\"\n",
    "for char in my_str:\n",
    "   if char not in punctuations:\n",
    "       no_punct = no_punct + char\n",
    "\n",
    "# display the unpunctuated string\n",
    "print(no_punct)"
   ]
  },
  {
   "cell_type": "markdown",
   "metadata": {},
   "source": [
    "# Assignment\n",
    "\n",
    "#1. Identify the vowels in my_string\n",
    "#2. Print all the vowels\n",
    "#3. Answer should be \"aaaiea\""
   ]
  },
  {
   "cell_type": "code",
   "execution_count": null,
   "metadata": {
    "collapsed": true
   },
   "outputs": [],
   "source": [
    "#sol:\n",
    "\n",
    "\n",
    "\n",
    "\n",
    "vowels = ''\n",
    "for alphabet in my_string:\n",
    "    if alphabet in 'aeiou':\n",
    "        vowels = vowels + alphabet\n",
    "print(vowels)"
   ]
  },
  {
   "cell_type": "markdown",
   "metadata": {},
   "source": [
    "# While Loop\n",
    "\n",
    "#while Loop is used to execute number of statements or body till the condition passed in while is true. Once the #condition is false, the control will come out of the loop.\n",
    "\n",
    "#Here, body will execute multiple times till the expression passed is true. The Body may be a single statement or #multiple statement.\n",
    "\n",
    "# Steps:\n",
    "\n",
    "#1.Firstly, the value in the variable is initialized.\n",
    "#2.Secondly, the condition/expression in the while is evaluated. Consequently if condition is true, the control enters in the body and executes all the statements . If the condition/expression passed results in false then the control exists the body and straight away control goes to next instruction after body of while.\n",
    "#3.Thirdly, in case condition was true having completed all the statements, the variable is incremented or decremented. Having changed the value of variable step second is followed. This process continues till the expression/condition becomes false.\n",
    "#4.Finally Rest of code after body is executed.\n"
   ]
  },
  {
   "cell_type": "code",
   "execution_count": null,
   "metadata": {
    "collapsed": true
   },
   "outputs": [],
   "source": [
    "a=10  \n",
    "while a>0:  \n",
    "    print(\"Value of a is\",a)  \n",
    "    a=a-2"
   ]
  },
  {
   "cell_type": "markdown",
   "metadata": {},
   "source": [
    "# Assignment5\n",
    "\n",
    "Write a program to add the digits\n",
    "\n",
    "For example:\n",
    "\n",
    "digits 123456 = 1+2+3+4+5+6 --> 21\n",
    "\n"
   ]
  },
  {
   "cell_type": "code",
   "execution_count": null,
   "metadata": {},
   "outputs": [],
   "source": []
  },
  {
   "cell_type": "code",
   "execution_count": null,
   "metadata": {},
   "outputs": [],
   "source": []
  },
  {
   "cell_type": "code",
   "execution_count": null,
   "metadata": {},
   "outputs": [],
   "source": []
  },
  {
   "cell_type": "code",
   "execution_count": 21,
   "metadata": {},
   "outputs": [
    {
     "name": "stdout",
     "output_type": "stream",
     "text": [
      "15\n"
     ]
    }
   ],
   "source": [
    "\n",
    " \n"
   ]
  },
  {
   "cell_type": "code",
   "execution_count": 3,
   "metadata": {},
   "outputs": [
    {
     "name": "stdout",
     "output_type": "stream",
     "text": [
      "21\n"
     ]
    }
   ],
   "source": [
    "n=123456  \n",
    "sum1=0  \n",
    "while n>0:  \n",
    "    r=n%10 \n",
    "    sum1+=r  \n",
    "    n=n//10  \n",
    "print(sum1) "
   ]
  },
  {
   "cell_type": "markdown",
   "metadata": {},
   "source": [
    "# Break, Continue and Pass\n",
    "\n",
    "Break is used to exit a for loop or while loop whereas continue is used to skip the current block and return to for or while statement\n"
   ]
  },
  {
   "cell_type": "code",
   "execution_count": 6,
   "metadata": {},
   "outputs": [
    {
     "name": "stdout",
     "output_type": "stream",
     "text": [
      "0\n",
      "1\n",
      "2\n",
      "3\n",
      "4\n"
     ]
    }
   ],
   "source": [
    "count = 0\n",
    "while True:\n",
    "    print(count)\n",
    "    count +=1\n",
    "    if count >=5:\n",
    "        break"
   ]
  },
  {
   "cell_type": "code",
   "execution_count": 15,
   "metadata": {},
   "outputs": [
    {
     "name": "stdout",
     "output_type": "stream",
     "text": [
      "10\n",
      "20\n",
      "40\n",
      "50\n"
     ]
    }
   ],
   "source": [
    "for x in [10,20,30,40,50]:\n",
    "    if x == 30:\n",
    "        continue\n",
    "        #break\n",
    "    print(x)"
   ]
  },
  {
   "cell_type": "code",
   "execution_count": 18,
   "metadata": {},
   "outputs": [
    {
     "name": "stdout",
     "output_type": "stream",
     "text": [
      "Hello\n"
     ]
    }
   ],
   "source": [
    "x = 10\n",
    "if x > 0:\n",
    "    pass\n",
    "    #print(\"Update later\")\n",
    "else:\n",
    "    print(x)\n",
    "print(\"Hello\")"
   ]
  },
  {
   "cell_type": "markdown",
   "metadata": {},
   "source": [
    "# Assignment 6\n",
    "\n",
    "Print out only odd numbers from 0 to 10"
   ]
  },
  {
   "cell_type": "code",
   "execution_count": 17,
   "metadata": {},
   "outputs": [
    {
     "name": "stdout",
     "output_type": "stream",
     "text": [
      "1\n",
      "3\n",
      "5\n",
      "7\n",
      "9\n"
     ]
    }
   ],
   "source": [
    "for x in range(10):\n",
    "    if x % 2 == 0:\n",
    "        continue\n",
    "    print(x)\n",
    "        "
   ]
  },
  {
   "cell_type": "markdown",
   "metadata": {},
   "source": [
    "# Can we use else clause for loops?\n",
    "\n",
    "Unkike other languages, we can use else for loops. When hte loop condition of \"for\" or \"while\" statement fails then then the code part in \"else\" is executed\n",
    "\n",
    "If the \"break\" statement is executed inside the loop then the \"else\" part is skipped. \n",
    "\n",
    "Note that \"else\" part is executed even if there is a continue statement"
   ]
  },
  {
   "cell_type": "code",
   "execution_count": 17,
   "metadata": {},
   "outputs": [
    {
     "name": "stdout",
     "output_type": "stream",
     "text": [
      "0\n",
      "1\n",
      "2\n",
      "3\n",
      "4\n",
      "count value reached 5\n"
     ]
    }
   ],
   "source": [
    "count = 0\n",
    "while(count<5):\n",
    "    print(count)\n",
    "    count += 1\n",
    "else:\n",
    "    print(\"count value reached %d\" %(count))"
   ]
  },
  {
   "cell_type": "code",
   "execution_count": 10,
   "metadata": {},
   "outputs": [
    {
     "name": "stdout",
     "output_type": "stream",
     "text": [
      "1\n",
      "2\n",
      "3\n",
      "4\n"
     ]
    }
   ],
   "source": [
    "for i in range(1,10):\n",
    "    if (i%5==0):\n",
    "        #break\n",
    "        continue\n",
    "    print(i)\n",
    "else:\n",
    "    print(\"print else part\")"
   ]
  },
  {
   "cell_type": "markdown",
   "metadata": {
    "collapsed": true
   },
   "source": [
    "# Understanding the underscore( _ ) of Python\n",
    "\n",
    "Below are cases for using the underscore in Python.\n",
    "\n",
    "1) For storing the value of last expression in interpreter. \n",
    "2) For ignoring the specific values. (so-called “I don’t care”) \n",
    "3) To give special meanings and functions to name of vartiables or functions.\n"
   ]
  },
  {
   "cell_type": "code",
   "execution_count": 17,
   "metadata": {},
   "outputs": [
    {
     "data": {
      "text/plain": [
       "10"
      ]
     },
     "execution_count": 17,
     "metadata": {},
     "output_type": "execute_result"
    }
   ],
   "source": [
    "# The python interpreter stores the last expression value to \n",
    "#the special variable called ‘_’.\n",
    "\n",
    "x = 10\n",
    "x"
   ]
  },
  {
   "cell_type": "code",
   "execution_count": 18,
   "metadata": {},
   "outputs": [
    {
     "data": {
      "text/plain": [
       "10"
      ]
     },
     "execution_count": 18,
     "metadata": {},
     "output_type": "execute_result"
    }
   ],
   "source": [
    "_"
   ]
  },
  {
   "cell_type": "code",
   "execution_count": 19,
   "metadata": {},
   "outputs": [
    {
     "data": {
      "text/plain": [
       "30"
      ]
     },
     "execution_count": 19,
     "metadata": {},
     "output_type": "execute_result"
    }
   ],
   "source": [
    "3*_"
   ]
  },
  {
   "cell_type": "code",
   "execution_count": 16,
   "metadata": {},
   "outputs": [
    {
     "name": "stdout",
     "output_type": "stream",
     "text": [
      "1\n",
      "3\n"
     ]
    }
   ],
   "source": [
    "# For Ignoring the values\n",
    "x, _, y = (1, 2, 3)\n",
    "print(x)\n",
    "print(y)"
   ]
  },
  {
   "cell_type": "markdown",
   "metadata": {},
   "source": [
    "# Give special meanings to name of variables and functions\n",
    "\n",
    "The underscore may be most used in ‘naming’. The PEP8 which is Python convention guideline introduces the following 4 naming cases.\n",
    "\n",
    "### _single_leading_underscore\n",
    "This convention is used for declaring private variables, functions, methods and classes in a module. Anything with this convention are ignored in from module import *. \n",
    "However, of course, Python does not supports truly private, so we can not force somethings private ones and also can call it directly from other modules. So sometimes we say it “weak internal use indicator”.\n",
    "\n",
    "### single_trailing_underscore_\n",
    "This convention could be used for avoiding conflict with Python keywords or built-ins.\n",
    "\n",
    "### __double_leading_underscore\n",
    "Because of the attributes named with double underscore will be mangled, we can not access it with “ClassName.__method”. Sometimes, some people use it as like real private ones using these features, but it is not for private and not recommended for that. \n",
    "\n",
    "### __double_leading_and_trailing_underscore__\n",
    "This convention is used for special variables or methods (so-called “magic method”) such as__init__, __len__. These methods provides special syntactic features or does special things. For example, __file__ indicates the location of Python file, __eq__ is executed when a == b expression is excuted. \n",
    "A user of course can make custom special method, it is very rare case, but often might modify the some built-in special methods. (e.g. You should initialize the class with __init__ that will be executed at first when a instance of class is created.)"
   ]
  }
 ],
 "metadata": {
  "kernelspec": {
   "display_name": "Python 3",
   "language": "python",
   "name": "python3"
  },
  "language_info": {
   "codemirror_mode": {
    "name": "ipython",
    "version": 3
   },
   "file_extension": ".py",
   "mimetype": "text/x-python",
   "name": "python",
   "nbconvert_exporter": "python",
   "pygments_lexer": "ipython3",
   "version": "3.6.4"
  }
 },
 "nbformat": 4,
 "nbformat_minor": 2
}
